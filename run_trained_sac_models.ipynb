{
 "cells": [
  {
   "cell_type": "markdown",
   "metadata": {},
   "source": [
    "# Project 3 Collaboration and Competition\n",
    "\n",
    "This notebook shows the runtime for a Multi Agent SAC (Soft Actor-Critic) Agent against the Tennis Reacher environment.\n",
    "The training does happen in `train_sac_headless.py` as the successful training took several hours and it was hard for me to maintain the training process in a jupyter notebook. For this reason, this notebook shows the result of the training (plot of rewards over training episodes and running the agent with trained model weights).\n",
    "\n",
    "### 1. Import of Libraries and Initialisation of environment and agent\n"
   ]
  },
  {
   "cell_type": "code",
   "execution_count": 1,
   "metadata": {},
   "outputs": [],
   "source": [
    "from unityagents import UnityEnvironment\n",
    "import numpy as np\n",
    "from collections import deque\n",
    "import torch\n",
    "import matplotlib.pyplot as plt\n",
    "\n",
    "from train_sac_headless import init_environment\n",
    "from multi_sac_agent import Agent"
   ]
  },
  {
   "cell_type": "markdown",
   "metadata": {},
   "source": [
    "Setting the hyperparameters that has be used for successful training"
   ]
  },
  {
   "cell_type": "code",
   "execution_count": 2,
   "metadata": {},
   "outputs": [],
   "source": [
    "# see Agent class for short descriptions of hyperparameters\n",
    "hyperparameters={\n",
    "    \"buffer_size\": 10000,\n",
    "    \"batch_size\": 64,\n",
    "    \"lin_full_con_01\": 256,\n",
    "    \"lin_full_con_02\": 256,\n",
    "    \"gamma\": 0.99,\n",
    "    \"tau\": 5e-3,\n",
    "    \"learning_rate\": 3e-4,\n",
    "    \"initial_rand_steps\": 100,\n",
    "    \"entropy_weight\": 25e-5\n",
    "}\n"
   ]
  },
  {
   "cell_type": "markdown",
   "metadata": {},
   "source": [
    "### 2. Agent with Random Actions in the Environment\n",
    "\n"
   ]
  },
  {
   "cell_type": "markdown",
   "metadata": {},
   "source": [
    "Initialise the agent, which also initialises the actor and critic models and the unity environment:"
   ]
  },
  {
   "cell_type": "code",
   "execution_count": 3,
   "metadata": {},
   "outputs": [
    {
     "name": "stderr",
     "output_type": "stream",
     "text": [
      "INFO:unityagents:\n",
      "'Academy' started successfully!\n",
      "Unity Academy name: Academy\n",
      "        Number of Brains: 1\n",
      "        Number of External Brains : 1\n",
      "        Lesson number : 0\n",
      "        Reset Parameters :\n",
      "\t\t\n",
      "Unity brain name: TennisBrain\n",
      "        Number of Visual Observations (per agent): 0\n",
      "        Vector Observation space type: continuous\n",
      "        Vector Observation space size (per agent): 8\n",
      "        Number of stacked Vector Observation: 3\n",
      "        Vector Action space type: continuous\n",
      "        Vector Action space size (per agent): 2\n",
      "        Vector Action descriptions: , \n"
     ]
    },
    {
     "name": "stdout",
     "output_type": "stream",
     "text": [
      "##Reacher Environment##\n",
      "\n",
      "# Environment Details\n",
      "- Number of Agents: 2\n",
      "- Size of Action (Continuous): 2 \n",
      "- Number of state variables: 24\n",
      "\n",
      "# Hyper Parameters\n",
      "{'batch_size': 64,\n",
      " 'buffer_size': 10000,\n",
      " 'entropy_weight': 0.00025,\n",
      " 'gamma': 0.99,\n",
      " 'initial_rand_steps': 100,\n",
      " 'learning_rate': 0.0003,\n",
      " 'lin_full_con_01': 256,\n",
      " 'lin_full_con_02': 256,\n",
      " 'tau': 0.005}\n",
      "    \n"
     ]
    }
   ],
   "source": [
    "agent, env, brain_name = init_environment(hyperparameters=hyperparameters)"
   ]
  },
  {
   "cell_type": "markdown",
   "metadata": {},
   "source": [
    "We can see in the parameters of the used reacher environment, which is the environment with a single agent and the previously initialised hyperparameters.\n",
    "\n",
    "The environment is already initialised. To run a \"demo\" agent against the environment we need to extract some further values from the environment:\n"
   ]
  },
  {
   "cell_type": "code",
   "execution_count": 4,
   "metadata": {},
   "outputs": [],
   "source": [
    "# resets the environment and returns the object with all information about a fresh environment\n",
    "env_info = env.reset(train_mode=False)[brain_name]\n",
    "num_agents = len(env_info.agents)\n",
    "\n",
    "# the brain includes the information about the size and format of the possible actions\n",
    "brain = env.brains[brain_name]\n",
    "action_size = brain.vector_action_space_size"
   ]
  },
  {
   "cell_type": "code",
   "execution_count": 5,
   "metadata": {},
   "outputs": [],
   "source": [
    "# reset the environment for a random agent run\n",
    "env_info = env.reset(train_mode=False)[brain_name]  "
   ]
  },
  {
   "cell_type": "code",
   "execution_count": null,
   "metadata": {},
   "outputs": [],
   "source": [
    "timesteps = 10000\n",
    "scores = []                                              # initialize the score \n",
    "for t in range(1, timesteps):\n",
    "    actions = np.random.randn(num_agents, action_size) # select an action\n",
    "    env_info = env.step(actions)[brain_name]           # send all actions to the environment\n",
    "    next_states = env_info.vector_observations         # get next state \n",
    "    rewards = env_info.rewards                         # get reward \n",
    "    dones = env_info.local_done                        # see if episode finished\n",
    "    scores.append(env_info.rewards)                          # update the score \n",
    "    states = next_states                               # roll over states to next time step\n",
    "    if np.any(dones):                                  # exit loop if episode finished\n",
    "        break\n",
    "\n",
    "print('Total score this amount of timesteps: {}'.format(np.mean([score[0] for score in scores])))"
   ]
  },
  {
   "cell_type": "code",
   "execution_count": 8,
   "metadata": {},
   "outputs": [],
   "source": [
    "env.close()"
   ]
  },
  {
   "cell_type": "markdown",
   "metadata": {},
   "source": [
    "### 3. Run actions with the trained agent\n",
    "\n",
    "Now we're running the agent again but with pretrained model weights. This means, the agent runs now with the knowledge and learned experience of around 250 training episodes. The following plot shows the development of the rewards after each episode for all training episodes. \n",
    "\n",
    "#### Plot the development of the rewards over the training episodes"
   ]
  },
  {
   "cell_type": "code",
   "execution_count": 3,
   "metadata": {},
   "outputs": [],
   "source": [
    "import ast"
   ]
  },
  {
   "cell_type": "code",
   "execution_count": 4,
   "metadata": {},
   "outputs": [
    {
     "data": {
      "image/png": "[encoded data removed]",
      "text/plain": [
       "<Figure size 432x288 with 1 Axes>"
      ]
     },
     "metadata": {
      "needs_background": "light"
     },
     "output_type": "display_data"
    }
   ],
   "source": [
    "with open(\"final_scores.txt\") as f:\n",
    "    str_scores = f.readlines()\n",
    "\n",
    "float_scores = [float(ast.literal_eval(score.strip())[0]) for score in str_scores]\n",
    "\n",
    "# plot the scores\n",
    "fig = plt.figure()\n",
    "ax = fig.add_subplot(111)\n",
    "plt.plot(np.arange(len(float_scores)), float_scores)\n",
    "plt.ylabel('Score')\n",
    "plt.xlabel('Episode #')\n",
    "plt.title(\"Tennis Brain Result\")\n",
    "plt.show()"
   ]
  },
  {
   "cell_type": "markdown",
   "metadata": {},
   "source": [
    "#### Run the agent with the pretrained weights\n",
    "\n",
    "Initialise new Environment and agent and load the model checkpoints:\n",
    "\n",
    "> It might be necessary to restart the kernel and run this without the random agent before. The Unity Environment is hard to kill gracefully."
   ]
  },
  {
   "cell_type": "code",
   "execution_count": 3,
   "metadata": {},
   "outputs": [
    {
     "name": "stderr",
     "output_type": "stream",
     "text": [
      "INFO:unityagents:\n",
      "'Academy' started successfully!\n",
      "Unity Academy name: Academy\n",
      "        Number of Brains: 1\n",
      "        Number of External Brains : 1\n",
      "        Lesson number : 0\n",
      "        Reset Parameters :\n",
      "\t\t\n",
      "Unity brain name: TennisBrain\n",
      "        Number of Visual Observations (per agent): 0\n",
      "        Vector Observation space type: continuous\n",
      "        Vector Observation space size (per agent): 8\n",
      "        Number of stacked Vector Observation: 3\n",
      "        Vector Action space type: continuous\n",
      "        Vector Action space size (per agent): 2\n",
      "        Vector Action descriptions: , \n"
     ]
    },
    {
     "name": "stdout",
     "output_type": "stream",
     "text": [
      "##Reacher Environment##\n",
      "\n",
      "# Environment Details\n",
      "- Number of Agents: 2\n",
      "- Size of Action (Continuous): 2 \n",
      "- Number of state variables: 24\n",
      "\n",
      "# Hyper Parameters\n",
      "{'batch_size': 64,\n",
      " 'buffer_size': 10000,\n",
      " 'entropy_weight': 0.00025,\n",
      " 'gamma': 0.99,\n",
      " 'initial_rand_steps': 100,\n",
      " 'learning_rate': 0.0003,\n",
      " 'lin_full_con_01': 256,\n",
      " 'lin_full_con_02': 256,\n",
      " 'tau': 0.005}\n",
      "    \n"
     ]
    }
   ],
   "source": [
    "agent, env, brain_name = init_environment(hyperparameters=hyperparameters)"
   ]
  },
  {
   "cell_type": "code",
   "execution_count": 4,
   "metadata": {},
   "outputs": [],
   "source": [
    "agent.load_checkpoints()"
   ]
  },
  {
   "cell_type": "code",
   "execution_count": 5,
   "metadata": {},
   "outputs": [],
   "source": [
    "# reset the environment for a agent run with the pretrained weights\n",
    "env_info = env.reset(train_mode=False)[brain_name]\n",
    "states = env_info.vector_observations"
   ]
  },
  {
   "cell_type": "markdown",
   "metadata": {},
   "source": [
    "Do the same as in the the random run, but instead choosing a random action, we let the trained agent decide which action to take:"
   ]
  },
  {
   "cell_type": "code",
   "execution_count": null,
   "metadata": {},
   "outputs": [],
   "source": [
    "timesteps = 100000\n",
    "scores = []\n",
    "for t in range(1, timesteps):\n",
    "    actions = agent.act(states, t)\n",
    "    env_info = env.step(actions)[brain_name]\n",
    "    next_states = env_info.vector_observations          \n",
    "    rewards = env_info.rewards                         \n",
    "    dones = env_info.local_done                         \n",
    "    agent.step(states, actions, rewards, next_states, dones, t)\n",
    "    states = next_states\n",
    "    scores.append(env_info.rewards)                     \n",
    "    states = next_states                               \n",
    "    #if np.any(dones):\n",
    "    #    break\n",
    "\n",
    "\n",
    "print('Total score this amount of timesteps: {}'.format(np.mean([score[0] for score in scores])))"
   ]
  },
  {
   "cell_type": "code",
   "execution_count": 7,
   "metadata": {},
   "outputs": [],
   "source": [
    "env.close()"
   ]
  }
 ],
 "metadata": {
  "kernelspec": {
   "display_name": "Python 3",
   "language": "python",
   "name": "python3"
  },
  "language_info": {
   "codemirror_mode": {
    "name": "ipython",
    "version": 3
   },
   "file_extension": ".py",
   "mimetype": "text/x-python",
   "name": "python",
   "nbconvert_exporter": "python",
   "pygments_lexer": "ipython3",
   "version": "3.6.15"
  }
 },
 "nbformat": 4,
 "nbformat_minor": 2
}
